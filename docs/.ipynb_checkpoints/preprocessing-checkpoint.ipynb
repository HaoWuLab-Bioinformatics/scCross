{
 "cells": [
  {
   "cell_type": "markdown",
   "metadata": {},
   "source": [
    "# Stage 1: Data preprocessing"
   ]
  },
  {
   "cell_type": "markdown",
   "metadata": {},
   "source": [
    "In this tutorial, we will show how to prepare the necessary data for GLUE model training, using the SNARE-seq data ([Chen, et al. 2019](https://doi.org/10.1038/s41587-019-0290-0)) as an example. The SNARE-seq data consists of paired scRNA-seq and scATAC-seq profiles, but we will treat them as unpaired and try to align these two omics layers using GLUE."
   ]
  },
  {
   "cell_type": "code",
   "execution_count": 2,
   "metadata": {},
   "outputs": [
    {
     "ename": "ModuleNotFoundError",
     "evalue": "No module named 'sparse'",
     "output_type": "error",
     "traceback": [
      "\u001b[1;31m---------------------------------------------------------------------------\u001b[0m",
      "\u001b[1;31mModuleNotFoundError\u001b[0m                       Traceback (most recent call last)",
      "\u001b[1;32m<ipython-input-2-9cdcf29ee6dd>\u001b[0m in \u001b[0;36m<module>\u001b[1;34m\u001b[0m\n\u001b[0;32m      2\u001b[0m \u001b[1;32mimport\u001b[0m \u001b[0mnetworkx\u001b[0m \u001b[1;32mas\u001b[0m \u001b[0mnx\u001b[0m\u001b[1;33m\u001b[0m\u001b[1;33m\u001b[0m\u001b[0m\n\u001b[0;32m      3\u001b[0m \u001b[1;32mimport\u001b[0m \u001b[0mscanpy\u001b[0m \u001b[1;32mas\u001b[0m \u001b[0msc\u001b[0m\u001b[1;33m\u001b[0m\u001b[1;33m\u001b[0m\u001b[0m\n\u001b[1;32m----> 4\u001b[1;33m \u001b[1;32mimport\u001b[0m \u001b[0mscglue\u001b[0m\u001b[1;33m\u001b[0m\u001b[1;33m\u001b[0m\u001b[0m\n\u001b[0m\u001b[0;32m      5\u001b[0m \u001b[1;32mfrom\u001b[0m \u001b[0mmatplotlib\u001b[0m \u001b[1;32mimport\u001b[0m \u001b[0mrcParams\u001b[0m\u001b[1;33m\u001b[0m\u001b[1;33m\u001b[0m\u001b[0m\n",
      "\u001b[1;32mD:\\data\\GLUE-master\\scglue\\__init__.py\u001b[0m in \u001b[0;36m<module>\u001b[1;34m\u001b[0m\n\u001b[0;32m      9\u001b[0m     \u001b[0mversion\u001b[0m \u001b[1;33m=\u001b[0m \u001b[1;32mlambda\u001b[0m \u001b[0mname\u001b[0m\u001b[1;33m:\u001b[0m \u001b[0mget_distribution\u001b[0m\u001b[1;33m(\u001b[0m\u001b[0mname\u001b[0m\u001b[1;33m)\u001b[0m\u001b[1;33m.\u001b[0m\u001b[0mversion\u001b[0m\u001b[1;33m\u001b[0m\u001b[1;33m\u001b[0m\u001b[0m\n\u001b[0;32m     10\u001b[0m \u001b[1;33m\u001b[0m\u001b[0m\n\u001b[1;32m---> 11\u001b[1;33m \u001b[1;32mfrom\u001b[0m \u001b[1;33m.\u001b[0m \u001b[1;32mimport\u001b[0m \u001b[0mdata\u001b[0m\u001b[1;33m,\u001b[0m \u001b[0mgenomics\u001b[0m\u001b[1;33m,\u001b[0m \u001b[0mgraph\u001b[0m\u001b[1;33m,\u001b[0m \u001b[0mmodels\u001b[0m\u001b[1;33m,\u001b[0m \u001b[0mnum\u001b[0m\u001b[1;33m,\u001b[0m \u001b[0mplot\u001b[0m\u001b[1;33m\u001b[0m\u001b[1;33m\u001b[0m\u001b[0m\n\u001b[0m\u001b[0;32m     12\u001b[0m \u001b[1;32mfrom\u001b[0m \u001b[1;33m.\u001b[0m\u001b[0mutils\u001b[0m \u001b[1;32mimport\u001b[0m \u001b[0mconfig\u001b[0m\u001b[1;33m,\u001b[0m \u001b[0mlog\u001b[0m\u001b[1;33m\u001b[0m\u001b[1;33m\u001b[0m\u001b[0m\n\u001b[0;32m     13\u001b[0m \u001b[1;33m\u001b[0m\u001b[0m\n",
      "\u001b[1;32mD:\\data\\GLUE-master\\scglue\\data.py\u001b[0m in \u001b[0;36m<module>\u001b[1;34m\u001b[0m\n\u001b[0;32m     25\u001b[0m \u001b[1;32mfrom\u001b[0m \u001b[0mnetworkx\u001b[0m\u001b[1;33m.\u001b[0m\u001b[0malgorithms\u001b[0m\u001b[1;33m.\u001b[0m\u001b[0mbipartite\u001b[0m \u001b[1;32mimport\u001b[0m \u001b[0mbiadjacency_matrix\u001b[0m\u001b[1;33m\u001b[0m\u001b[1;33m\u001b[0m\u001b[0m\n\u001b[0;32m     26\u001b[0m \u001b[1;32mfrom\u001b[0m \u001b[0msklearn\u001b[0m\u001b[1;33m.\u001b[0m\u001b[0mpreprocessing\u001b[0m \u001b[1;32mimport\u001b[0m \u001b[0mnormalize\u001b[0m\u001b[1;33m\u001b[0m\u001b[1;33m\u001b[0m\u001b[0m\n\u001b[1;32m---> 27\u001b[1;33m \u001b[1;32mfrom\u001b[0m \u001b[0msparse\u001b[0m \u001b[1;32mimport\u001b[0m \u001b[0mCOO\u001b[0m\u001b[1;33m\u001b[0m\u001b[1;33m\u001b[0m\u001b[0m\n\u001b[0m\u001b[0;32m     28\u001b[0m \u001b[1;33m\u001b[0m\u001b[0m\n\u001b[0;32m     29\u001b[0m \u001b[1;32mfrom\u001b[0m \u001b[1;33m.\u001b[0m \u001b[1;32mimport\u001b[0m \u001b[0mgenomics\u001b[0m\u001b[1;33m,\u001b[0m \u001b[0mnum\u001b[0m\u001b[1;33m\u001b[0m\u001b[1;33m\u001b[0m\u001b[0m\n",
      "\u001b[1;31mModuleNotFoundError\u001b[0m: No module named 'sparse'"
     ]
    }
   ],
   "source": [
    "import anndata\n",
    "import networkx as nx\n",
    "import scanpy as sc\n",
    "import scglue\n",
    "from matplotlib import rcParams"
   ]
  },
  {
   "cell_type": "code",
   "execution_count": null,
   "metadata": {},
   "outputs": [],
   "source": [
    "scglue.plot.set_publication_params()\n",
    "rcParams[\"figure.figsize\"] = (4, 4)"
   ]
  },
  {
   "cell_type": "markdown",
   "metadata": {},
   "source": [
    "## Read data"
   ]
  },
  {
   "cell_type": "markdown",
   "metadata": {},
   "source": [
    "First, we need to prepare the scRNA-seq and scATAC-seq data into `AnnData` objects. `AnnData` is the standard data class we use in `scglue`. See their [documentation](https://anndata.readthedocs.io/en/latest/index.html) for more details if you are unfamiliar, including how to construct `AnnData` objects from scratch, and how to read data in other formats (csv, mtx, loom, etc.) into `AnnData` objects."
   ]
  },
  {
   "cell_type": "markdown",
   "metadata": {},
   "source": [
    "Here we just load existing `h5ad` files, which is the native file format for `AnnData`. The `h5ad` files used in this tutorial can be downloaded from here:\n",
    "\n",
    "* [ftp://ftp.cbi.pku.edu.cn/pub/glue-download/Chen-2019-RNA.h5ad](ftp://ftp.cbi.pku.edu.cn/pub/glue-download/Chen-2019-RNA.h5ad)\n",
    "* [ftp://ftp.cbi.pku.edu.cn/pub/glue-download/Chen-2019-ATAC.h5ad](ftp://ftp.cbi.pku.edu.cn/pub/glue-download/Chen-2019-ATAC.h5ad)"
   ]
  },
  {
   "cell_type": "code",
   "execution_count": null,
   "metadata": {},
   "outputs": [],
   "source": [
    "rna = anndata.read_h5ad(\"Chen-2019-RNA.h5ad\")\n",
    "rna"
   ]
  },
  {
   "cell_type": "code",
   "execution_count": null,
   "metadata": {},
   "outputs": [],
   "source": [
    "atac = anndata.read_h5ad(\"lymph_ATAC.h5ad\")\n",
    "atac"
   ]
  },
  {
   "cell_type": "markdown",
   "metadata": {},
   "source": [
    "## Preprocess scRNA-seq data"
   ]
  },
  {
   "cell_type": "markdown",
   "metadata": {},
   "source": [
    "> (Estimated time: ~2 min)"
   ]
  },
  {
   "cell_type": "markdown",
   "metadata": {},
   "source": [
    "To begin with, the scRNA-seq expression matrix is supposed to contain raw UMI counts:"
   ]
  },
  {
   "cell_type": "code",
   "execution_count": null,
   "metadata": {},
   "outputs": [],
   "source": [
    "rna.X, rna.X.data"
   ]
  },
  {
   "cell_type": "markdown",
   "metadata": {},
   "source": [
    "Before any preprocessing, we back up the raw UMI counts in a layer called \"counts\". It will be used later during model training."
   ]
  },
  {
   "cell_type": "code",
   "execution_count": null,
   "metadata": {},
   "outputs": [],
   "source": [
    "rna.layers[\"counts\"] = rna.X.copy()"
   ]
  },
  {
   "cell_type": "markdown",
   "metadata": {},
   "source": [
    "Then follow a minimal `scanpy` pipeline for data preprocessing (see their [tutorial](https://scanpy-tutorials.readthedocs.io/en/latest/pbmc3k.html) if you are unfamiliar)."
   ]
  },
  {
   "cell_type": "markdown",
   "metadata": {},
   "source": [
    "First up we use the \"seurat_v3\" method to select 2,000 highly variable genes."
   ]
  },
  {
   "cell_type": "code",
   "execution_count": null,
   "metadata": {},
   "outputs": [],
   "source": [
    "sc.pp.highly_variable_genes(rna, n_top_genes=2000, flavor=\"seurat_v3\")"
   ]
  },
  {
   "cell_type": "markdown",
   "metadata": {},
   "source": [
    "Then normalize, scale the data, and perform dimension reduction via PCA. By default, 100 principal components are used.\n",
    "\n",
    "The PCA embedding will be used in [stage 2](training.ipynb#Configure-data) as the first encoder transformation to reduce model size."
   ]
  },
  {
   "cell_type": "code",
   "execution_count": null,
   "metadata": {},
   "outputs": [],
   "source": [
    "sc.pp.normalize_total(rna)\n",
    "sc.pp.log1p(rna)\n",
    "sc.pp.scale(rna)\n",
    "sc.tl.pca(rna, n_comps=100, svd_solver=\"auto\")"
   ]
  },
  {
   "cell_type": "markdown",
   "metadata": {},
   "source": [
    "Optionally, we can visualize the RNA domain with UMAP."
   ]
  },
  {
   "cell_type": "code",
   "execution_count": null,
   "metadata": {},
   "outputs": [],
   "source": [
    "sc.pp.neighbors(rna, metric=\"cosine\")\n",
    "sc.tl.umap(rna)\n",
    "sc.pl.umap(rna, color=\"cell_type\")"
   ]
  },
  {
   "cell_type": "markdown",
   "metadata": {},
   "source": [
    "## Preprocess scATAC-seq data"
   ]
  },
  {
   "cell_type": "markdown",
   "metadata": {},
   "source": [
    "> (Estimated time: ~2 min)"
   ]
  },
  {
   "cell_type": "markdown",
   "metadata": {},
   "source": [
    "Similar to scRNA-seq, the scATAC-seq accessibility matrix is also also supposed to contain raw counts."
   ]
  },
  {
   "cell_type": "code",
   "execution_count": null,
   "metadata": {},
   "outputs": [],
   "source": [
    "atac.X, atac.X.data"
   ]
  },
  {
   "cell_type": "markdown",
   "metadata": {},
   "source": [
    "For scATAC-seq, we apply the latent semantic indexing (LSI) for dimension reduction, using the function [scglue.data.lsi](api/scglue.data.lsi.rst). This is just a Python reimplementation of the LSI function in [Signac](https://satijalab.org/signac/). We also set the dimensionality to 100. The other keyword argument `n_iter=15` is passed to [sklearn.utils.extmath.randomized_svd](https://scikit-learn.org/stable/modules/generated/sklearn.utils.extmath.randomized_svd.html). Setting it to larger values increases the precision of randomized SVD.\n",
    "\n",
    "The LSI embedding will be used in [stage 2](training.ipynb#Configure-data) as the first encoder transformation to reduce model size."
   ]
  },
  {
   "cell_type": "code",
   "execution_count": null,
   "metadata": {},
   "outputs": [],
   "source": [
    "scglue.data.lsi(atac, n_components=100, n_iter=15)"
   ]
  },
  {
   "cell_type": "markdown",
   "metadata": {},
   "source": [
    "Optionally, we may also visualize the ATAC domain with UMAP."
   ]
  },
  {
   "cell_type": "code",
   "execution_count": null,
   "metadata": {},
   "outputs": [],
   "source": [
    "sc.pp.neighbors(atac, use_rep=\"X_lsi\", metric=\"cosine\")\n",
    "sc.tl.umap(atac)"
   ]
  },
  {
   "cell_type": "code",
   "execution_count": null,
   "metadata": {},
   "outputs": [],
   "source": [
    "sc.pl.umap(atac, color=\"cell_type\")"
   ]
  },
  {
   "cell_type": "markdown",
   "metadata": {},
   "source": [
    "## Construct prior regulatory graph"
   ]
  },
  {
   "cell_type": "markdown",
   "metadata": {},
   "source": [
    "> Estimated time: ~2 min"
   ]
  },
  {
   "cell_type": "markdown",
   "metadata": {},
   "source": [
    "Next, we need to construct the guidance graph, which will be utilized by GLUE to orient the multi-omics alignment. The graph should contain omics features as nodes (e.g., genes for scRNA-seq, and peaks for scATAC-seq), and prior regulatory interactions as edges."
   ]
  },
  {
   "cell_type": "markdown",
   "metadata": {},
   "source": [
    "GLUE accepts prior graph in the form of [networkx](https://networkx.org/) graph objects (see this [introduction](https://networkx.org/documentation/stable/reference/introduction.html) if you are unfamilar). So, in principle, you can manually construct the prior graph tailored to your need, as long as the graph complies to the following standards:\n",
    "\n",
    "* The [graph nodes](https://networkx.org/documentation/stable/reference/classes/generated/networkx.Graph.nodes.html) should cover all [omics features](https://anndata.readthedocs.io/en/latest/anndata.AnnData.var_names.html) in the datasets to be integrated.\n",
    "* The [graph edges](https://networkx.org/documentation/stable/reference/classes/generated/networkx.Graph.edges.html) should contain \"weight\" and \"sign\" as edge attributes. Weights should have range (0, 1], and signs should take values of either 1 or -1.\n",
    "* The graph should contain a self-loop for each node, with weight = 1, and sign = 1.\n",
    "* It is recommended to use undirected graphs ([Graph](https://networkx.org/documentation/stable/reference/classes/graph.html), [MultiGraph](https://networkx.org/documentation/stable/reference/classes/multigraph.html)), or symmetric directed graphs ([DiGraph](https://networkx.org/documentation/stable/reference/classes/digraph.html), [MultiDiGraph](https://networkx.org/documentation/stable/reference/classes/multidigraph.html))."
   ]
  },
  {
   "cell_type": "markdown",
   "metadata": {},
   "source": [
    "Below, we show how to construct a prior graph for scRNA-seq and scATAC-seq integration, using builtin functions in `scglue`."
   ]
  },
  {
   "cell_type": "markdown",
   "metadata": {},
   "source": [
    "### Obtain genomic coordinates"
   ]
  },
  {
   "cell_type": "markdown",
   "metadata": {},
   "source": [
    "The most commonly used prior information linking ATAC peaks with genes is genomic proximity. To do so, we need the genomic coordinates for peaks and genes, and store them as feature meta data in the [var](https://anndata.readthedocs.io/en/latest/anndata.AnnData.var.html#anndata.AnnData.var) slot."
   ]
  },
  {
   "cell_type": "markdown",
   "metadata": {},
   "source": [
    "For typical scRNA-seq datasets, only the gene names/IDs are stored, but not their coordinates, as is the case here:"
   ]
  },
  {
   "cell_type": "code",
   "execution_count": null,
   "metadata": {},
   "outputs": [],
   "source": [
    "rna.var.head()"
   ]
  },
  {
   "cell_type": "markdown",
   "metadata": {},
   "source": [
    "So, we provide a utility function [scglue.data.get_gene_annotation](api/scglue.data.get_gene_annotation.rst) to supplement the coordinate information from GTF files. The following usage assumes that the `rna.var_names` correspond to \"gene_name\" attribute in the GTF file. For other cases, please check the [function documentation](api/scglue.data.get_gene_annotation.rst)."
   ]
  },
  {
   "cell_type": "markdown",
   "metadata": {},
   "source": [
    "The GTF file used here can be downloaded from [GENCODE](ftp://ftp.ebi.ac.uk/pub/databases/gencode/Gencode_mouse/release_M25/gencode.vM25.chr_patch_hapl_scaff.annotation.gtf.gz)."
   ]
  },
  {
   "cell_type": "code",
   "execution_count": null,
   "metadata": {},
   "outputs": [],
   "source": [
    "scglue.data.get_gene_annotation(\n",
    "    rna, gtf=\"gencode.vM25.chr_patch_hapl_scaff.annotation.gtf.gz\",\n",
    "    gtf_by=\"gene_name\"\n",
    ")\n",
    "rna.var.loc[:, [\"chrom\", \"chromStart\", \"chromEnd\"]].head()"
   ]
  },
  {
   "cell_type": "markdown",
   "metadata": {},
   "source": [
    "Note that the coordinates have column names \"chrom\", \"chromStart\" and \"chromEnd\", corresponding to the first three columns of the [BED format](https://genome.ucsc.edu/FAQ/FAQformat.html#format1). These exact column names are required. Alternative names like \"chr\", \"start\", \"end\" are **NOT** recognized."
   ]
  },
  {
   "cell_type": "markdown",
   "metadata": {},
   "source": [
    "For the scATAC-seq data, the coordinates are already in `var_names`. We just need to extract them."
   ]
  },
  {
   "cell_type": "code",
   "execution_count": null,
   "metadata": {},
   "outputs": [],
   "source": [
    "atac.var_names[:5]"
   ]
  },
  {
   "cell_type": "code",
   "execution_count": null,
   "metadata": {},
   "outputs": [],
   "source": [
    "split = atac.var_names.str.split(r\"[:-]\")\n",
    "atac.var[\"chrom\"] = split.map(lambda x: x[0])\n",
    "atac.var[\"chromStart\"] = split.map(lambda x: x[1])\n",
    "atac.var[\"chromEnd\"] = split.map(lambda x: x[2])\n",
    "atac.var.head()"
   ]
  },
  {
   "cell_type": "markdown",
   "metadata": {},
   "source": [
    "### Graph construction"
   ]
  },
  {
   "cell_type": "markdown",
   "metadata": {},
   "source": [
    "Now that we have the genomic coordinates for all omics features, we can use the [scglue.genomics.rna_anchored_prior_graph](api/scglue.genomics.rna_anchored_prior_graph.rst) function to construct the prior graph. By default, an ATAC peak is connected to a gene if they overlap in either the gene body or promoter region. See the [function documentation](api/scglue.genomics.rna_anchored_prior_graph.rst) for adjustable settings."
   ]
  },
  {
   "cell_type": "code",
   "execution_count": null,
   "metadata": {},
   "outputs": [],
   "source": [
    "graph = scglue.genomics.rna_anchored_prior_graph(rna, atac)\n",
    "graph"
   ]
  },
  {
   "cell_type": "code",
   "execution_count": null,
   "metadata": {},
   "outputs": [],
   "source": [
    "graph.number_of_nodes(), graph.number_of_edges()"
   ]
  },
  {
   "cell_type": "markdown",
   "metadata": {},
   "source": [
    "We can verify that the obtained prior graph complies to all of the previous standards."
   ]
  },
  {
   "cell_type": "code",
   "execution_count": null,
   "metadata": {},
   "outputs": [],
   "source": [
    "# Graph node covers all omic features\n",
    "all(graph.has_node(gene) for gene in rna.var_names), \\\n",
    "all(graph.has_node(peak) for peak in atac.var_names)"
   ]
  },
  {
   "cell_type": "code",
   "execution_count": null,
   "metadata": {},
   "outputs": [],
   "source": [
    "# Edge attributes contain weights and signs\n",
    "for _, e in zip(range(5), graph.edges):\n",
    "    print(f\"{e}: {graph.edges[e]}\")"
   ]
  },
  {
   "cell_type": "code",
   "execution_count": null,
   "metadata": {},
   "outputs": [],
   "source": [
    "# Each node has a self-loop\n",
    "all(graph.has_edge(gene, gene) for gene in rna.var_names), \\\n",
    "all(graph.has_edge(peak, peak) for peak in atac.var_names)"
   ]
  },
  {
   "cell_type": "code",
   "execution_count": null,
   "metadata": {},
   "outputs": [],
   "source": [
    "# Graph is symmetric\n",
    "all(graph.has_edge(j, i) for i, j, _ in graph.edges)"
   ]
  },
  {
   "cell_type": "markdown",
   "metadata": {},
   "source": [
    "In the meantime, note that highly variable features have been propagated to the ATAC domain, by marking peaks reachable from the highly variable genes in the prior graph:"
   ]
  },
  {
   "cell_type": "code",
   "execution_count": null,
   "metadata": {},
   "outputs": [],
   "source": [
    "atac.var.head()"
   ]
  },
  {
   "cell_type": "markdown",
   "metadata": {},
   "source": [
    "If the [rna_anchored_prior_graph](api/scglue.genomics.rna_anchored_prior_graph.rst) function doesn't meet the need (e.g., if you want to incorporate experimental regulatory evidences), you may need to construct the prior graph manually. We also provide some lower-level utilities like to help (e.g., [scglue.genomics.window_graph](api/scglue.genomics.window_graph.rst), [scglue.graph.compose_multigraph](api/scglue.graph.compose_multigraph.rst), [scglue.graph.reachable_vertices](api/scglue.graph.reachable_vertices.rst)). Please refer to our [case study](https://github.com/gao-lab/GLUE/tree/master/experiments/RegInf/s01_preprocessing.ipynb) for an example, where we combined genomic proximity with pcHi-C and eQTL evidences to construct a hybrid prior regulatory graph."
   ]
  },
  {
   "cell_type": "markdown",
   "metadata": {},
   "source": [
    "## Save preprocessed data files"
   ]
  },
  {
   "cell_type": "markdown",
   "metadata": {},
   "source": [
    "Finally, we save the preprocessed data, for use in [stage 2](training.ipynb)."
   ]
  },
  {
   "cell_type": "code",
   "execution_count": null,
   "metadata": {},
   "outputs": [],
   "source": [
    "rna.write(\"rna_preprocessed.h5ad\", compression=\"gzip\")\n",
    "atac.write(\"atac_preprocessed.h5ad\", compression=\"gzip\")\n",
    "nx.write_graphml(graph, \"prior.graphml.gz\")"
   ]
  }
 ],
 "metadata": {
  "interpreter": {
   "hash": "7c3c9c0214cd22bc0ae22f7bfd09d2fc247c2b12cc3183b0f6677b50de6f4f9e"
  },
  "kernelspec": {
   "display_name": "Python 3",
   "language": "python",
   "name": "python3"
  },
  "language_info": {
   "codemirror_mode": {
    "name": "ipython",
    "version": 3
   },
   "file_extension": ".py",
   "mimetype": "text/x-python",
   "name": "python",
   "nbconvert_exporter": "python",
   "pygments_lexer": "ipython3",
   "version": "3.7.6"
  }
 },
 "nbformat": 4,
 "nbformat_minor": 4
}
